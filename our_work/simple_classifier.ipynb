{
 "cells": [
  {
   "cell_type": "code",
   "execution_count": 1,
   "metadata": {},
   "outputs": [],
   "source": [
    "import glob\n",
    "import os\n",
    "import random\n",
    "\n",
    "import numpy as np\n",
    "from sklearn.svm import SVC\n",
    "from sklearn.model_selection import cross_val_score\n",
    "from sklearn.pipeline import make_pipeline\n",
    "from sklearn.preprocessing import StandardScaler"
   ]
  },
  {
   "cell_type": "code",
   "execution_count": 5,
   "metadata": {},
   "outputs": [],
   "source": [
    "def make_predictions(npy_paths):\n",
    "    # Load data\n",
    "    X = np.array([np.load(p) for p in npy_paths])\n",
    "    y = np.array([os.path.split(p)[1].split('-')[0] for p in npy_paths])\n",
    "    # Run cross-validation\n",
    "    clf = make_pipeline(StandardScaler(), SVC())\n",
    "    scores = cross_val_score(clf, X, y)\n",
    "    print('{:.1f} +- {:.1f}'.format(np.mean(scores) * 100, np.std(scores) * 100))\n",
    "    "
   ]
  },
  {
   "cell_type": "markdown",
   "metadata": {},
   "source": [
    "## Clmr"
   ]
  },
  {
   "cell_type": "code",
   "execution_count": null,
   "metadata": {},
   "outputs": [],
   "source": [
    "# Find numpy paths (and randomize to remove label ordering)\n",
    "npy_paths = sorted(glob.glob('features_our/clmr/*.npy'))\n",
    "#assert len(npy_paths) == 1000\n",
    "random.seed(0)\n",
    "random.shuffle(npy_paths)"
   ]
  },
  {
   "cell_type": "code",
   "execution_count": 15,
   "metadata": {},
   "outputs": [
    {
     "name": "stdout",
     "output_type": "stream",
     "text": [
      "74.9 +- 0.4\n"
     ]
    }
   ],
   "source": [
    "# Run cross-validation\n",
    "clf = make_pipeline(StandardScaler(), SVC())\n",
    "scores = cross_val_score(clf, X, y)\n",
    "print('{:.1f} +- {:.1f}'.format(np.mean(scores) * 100, np.std(scores) * 100))"
   ]
  },
  {
   "cell_type": "markdown",
   "metadata": {},
   "source": [
    "## Musicnn"
   ]
  },
  {
   "cell_type": "code",
   "execution_count": 18,
   "metadata": {},
   "outputs": [],
   "source": [
    "# Find numpy paths (and randomize to remove label ordering)\n",
    "npy_paths_musicnn = sorted(glob.glob('features_our/musicnn/*.npy'))\n",
    "#assert len(npy_paths) == 1000\n",
    "random.seed(0)\n",
    "random.shuffle(npy_paths_musicnn)"
   ]
  },
  {
   "cell_type": "code",
   "execution_count": 19,
   "metadata": {},
   "outputs": [
    {
     "name": "stdout",
     "output_type": "stream",
     "text": [
      "74.8 +- 1.1\n"
     ]
    }
   ],
   "source": [
    "make_predictions(npy_paths_musicnn)"
   ]
  },
  {
   "cell_type": "markdown",
   "metadata": {},
   "source": [
    "## Jukebox"
   ]
  },
  {
   "cell_type": "code",
   "execution_count": 6,
   "metadata": {},
   "outputs": [],
   "source": [
    "# Find numpy paths (and randomize to remove label ordering)\n",
    "npy_paths_jukebox = sorted(glob.glob('features_our/jukebox/*.npy'))\n",
    "#assert len(npy_paths) == 1000\n",
    "random.seed(0)\n",
    "random.shuffle(npy_paths_jukebox)"
   ]
  },
  {
   "cell_type": "code",
   "execution_count": 7,
   "metadata": {},
   "outputs": [
    {
     "name": "stdout",
     "output_type": "stream",
     "text": [
      "87.8 +- 0.4\n"
     ]
    }
   ],
   "source": [
    "make_predictions(npy_paths_jukebox)"
   ]
  },
  {
   "cell_type": "code",
   "execution_count": null,
   "metadata": {},
   "outputs": [],
   "source": []
  }
 ],
 "metadata": {
  "kernelspec": {
   "display_name": "Python 3/anaconda",
   "language": "python",
   "name": "python3"
  },
  "language_info": {
   "codemirror_mode": {
    "name": "ipython",
    "version": 3
   },
   "file_extension": ".py",
   "mimetype": "text/x-python",
   "name": "python",
   "nbconvert_exporter": "python",
   "pygments_lexer": "ipython3",
   "version": "3.8.10"
  }
 },
 "nbformat": 4,
 "nbformat_minor": 4
}
